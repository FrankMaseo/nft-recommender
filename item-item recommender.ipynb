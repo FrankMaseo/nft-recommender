{
 "cells": [
  {
   "cell_type": "code",
   "execution_count": 25,
   "id": "27663ddc",
   "metadata": {},
   "outputs": [
    {
     "name": "stdout",
     "output_type": "stream",
     "text": [
      "df size 1499889\n",
      "n° collections 3774\n",
      "n° users 117267\n",
      "n° transactions 3794085.0\n"
     ]
    }
   ],
   "source": [
    "import pandas as pd\n",
    "import math\n",
    "\n",
    "##Add filter to remove collections with less than X sales\n",
    "\n",
    "df_ratings = pd.concat(\n",
    "    [pd.read_csv('nft-buys-'+str(x)+'.csv') for x in range(0,15)]\n",
    "    , axis = 0\n",
    "    , ignore_index = True\n",
    ").sort_values(\n",
    "    by = 'NO_BUYS'\n",
    "    ,ascending = False\n",
    ").drop_duplicates(\n",
    "    subset=['BUYER_ADDRESS','NFT_ADDRESS']\n",
    "    , keep='first'\n",
    "    , ignore_index=False\n",
    ").reset_index(\n",
    "    drop = True\n",
    ")\n",
    "\n",
    "#Get the maximum buys on a single collection per user\n",
    "df_user_buys = df_ratings.groupby('BUYER_ADDRESS')['NO_BUYS'].max().rename('MAX_BUYS')\n",
    "\n",
    "df_ratings = df_ratings.merge(df_user_buys, how='inner',on='BUYER_ADDRESS')\n",
    "\n",
    "del df_user_buys\n",
    "\n",
    "#Normalize N° buys per user per collection to derive a rating metric\n",
    "df_ratings['ratings_lin'] = df_ratings.NO_BUYS / df_ratings.MAX_BUYS\n",
    "\n",
    "#sqrt ratings to accentuate weight of at least 1 buy\n",
    "df_ratings['ratings'] = df_ratings.ratings_lin.apply(lambda x : math.sqrt(x))\n",
    "\n",
    "print(\"df size\", len(df_ratings.BUYER_ADDRESS.tolist()))\n",
    "print(\"n° collections\", len(df_ratings.NFT_ADDRESS.unique()))\n",
    "print(\"n° users\", len(df_ratings.BUYER_ADDRESS.unique()))\n",
    "print(\"n° transactions\", int(df_ratings.NO_BUYS.sum()))"
   ]
  },
  {
   "cell_type": "code",
   "execution_count": 2,
   "id": "fda0f5fb",
   "metadata": {},
   "outputs": [],
   "source": [
    "#Create a mapping from NFT collection address to an incremental product_id\n",
    "nft_address_to_product_id = pd.DataFrame(\n",
    "    df_ratings.NFT_ADDRESS.drop_duplicates()\n",
    ").reset_index(drop=True).reset_index().rename(columns={'index':'product_id'})\n",
    "\n",
    "df_names = pd.read_csv('nft-names.csv')\n",
    "\n",
    "df_names = df_names.sort_values(\n",
    "    by='PROJECT_NAME',\n",
    "    ascending = False\n",
    ").drop_duplicates(\n",
    "    subset = ['NFT_ADDRESS']\n",
    ")"
   ]
  },
  {
   "cell_type": "code",
   "execution_count": 3,
   "id": "fa389624",
   "metadata": {},
   "outputs": [],
   "source": [
    "from sklearn.metrics.pairwise import cosine_similarity\n",
    "import numpy as np\n",
    "\n",
    "# Load and pre-process the data\n",
    "data = df_ratings.merge(\n",
    "    nft_address_to_product_id\n",
    "    ,how='inner'\n",
    "    , on='NFT_ADDRESS'\n",
    ").dropna().rename(\n",
    "    columns = {'BUYER_ADDRESS': 'user_id','ratings':'rating'}\n",
    ")[['user_id','product_id','rating']].copy()\n",
    "\n",
    "#Compute the user/product matrix that stores user ratings (=buys) to products (=NFT collections)\n",
    "data = data.pivot_table(index='user_id', columns='product_id', values='rating').fillna(0)\n",
    "\n",
    "# Compute the item-item similarity matrix using cosine similarity between all the collections\n",
    "item_similarity = pd.DataFrame(cosine_similarity(data.T))"
   ]
  },
  {
   "cell_type": "code",
   "execution_count": 19,
   "id": "146ac7f2",
   "metadata": {},
   "outputs": [],
   "source": [
    "def get_most_similar_products(product_id, rating):\n",
    "    #For a given product_id and rating value provided as input, returns the top 20 similar products (=NFT collections)\n",
    "    similar_scores = item_similarity.iloc[product_id]*rating\n",
    "    similar_scores = similar_scores.sort_values(ascending=False)\n",
    "    return similar_scores[similar_scores.index != product_id].head(20)"
   ]
  },
  {
   "cell_type": "code",
   "execution_count": 20,
   "id": "9ad757e7",
   "metadata": {},
   "outputs": [],
   "source": [
    "import random \n",
    "def get_recommendations(user_id):\n",
    "    user_ratings = data.loc[user_id].dropna()\n",
    "    recommendations = pd.Series()\n",
    "\n",
    "    for product_id, rating in user_ratings[user_ratings>0].sort_values(ascending = False).head(10).items():\n",
    "        similar_products = get_most_similar_products(product_id, rating)\n",
    "        recommendations = pd.concat([recommendations,similar_products])\n",
    "    \n",
    "    # Aggregate the recommendations\n",
    "    recommendations = recommendations.groupby(recommendations.index).sum()\n",
    "    recommendations = recommendations.sort_values(ascending=False)\n",
    "    return recommendations.head(20)\n",
    "\n",
    "def get_top_collection(user):\n",
    "    #randomized with top 3 collections\n",
    "    collections = df_ratings[df_ratings.BUYER_ADDRESS == user]['NFT_ADDRESS'].head(3).to_list()\n",
    "    weights= [1,1,1]\n",
    "    return random.choices(collections, weights)[0]\n",
    "    "
   ]
  },
  {
   "cell_type": "code",
   "execution_count": 33,
   "id": "42d1a494",
   "metadata": {},
   "outputs": [
    {
     "name": "stdout",
     "output_type": "stream",
     "text": [
      "user 1\n"
     ]
    },
    {
     "name": "stdout",
     "output_type": "stream",
     "text": [
      "invested recs: 3\n",
      "user 2\n"
     ]
    },
    {
     "name": "stdout",
     "output_type": "stream",
     "text": [
      "invested recs: 2\n",
      "user 3\n"
     ]
    },
    {
     "name": "stdout",
     "output_type": "stream",
     "text": [
      "invested recs: 1\n",
      "user 4\n"
     ]
    },
    {
     "name": "stdout",
     "output_type": "stream",
     "text": [
      "invested recs: 6\n",
      "user 5\n"
     ]
    },
    {
     "name": "stdout",
     "output_type": "stream",
     "text": [
      "invested recs: 1\n",
      "user 6\n"
     ]
    },
    {
     "name": "stdout",
     "output_type": "stream",
     "text": [
      "invested recs: 4\n",
      "user 7\n"
     ]
    },
    {
     "name": "stdout",
     "output_type": "stream",
     "text": [
      "invested recs: 9\n",
      "user 8\n"
     ]
    },
    {
     "name": "stdout",
     "output_type": "stream",
     "text": [
      "invested recs: 1\n",
      "user 9\n"
     ]
    },
    {
     "name": "stdout",
     "output_type": "stream",
     "text": [
      "invested recs: 11\n",
      "user 10\n"
     ]
    },
    {
     "name": "stdout",
     "output_type": "stream",
     "text": [
      "invested recs: 3\n",
      "user 11\n"
     ]
    },
    {
     "name": "stdout",
     "output_type": "stream",
     "text": [
      "invested recs: 6\n",
      "user 12\n"
     ]
    },
    {
     "name": "stdout",
     "output_type": "stream",
     "text": [
      "invested recs: 3\n",
      "user 13\n"
     ]
    },
    {
     "name": "stdout",
     "output_type": "stream",
     "text": [
      "invested recs: 1\n",
      "user 14\n"
     ]
    },
    {
     "name": "stdout",
     "output_type": "stream",
     "text": [
      "invested recs: 7\n",
      "user 15\n"
     ]
    },
    {
     "name": "stdout",
     "output_type": "stream",
     "text": [
      "invested recs: 2\n",
      "user 16\n"
     ]
    },
    {
     "name": "stdout",
     "output_type": "stream",
     "text": [
      "invested recs: 3\n",
      "user 17\n"
     ]
    },
    {
     "name": "stdout",
     "output_type": "stream",
     "text": [
      "invested recs: 5\n",
      "user 18\n"
     ]
    },
    {
     "name": "stdout",
     "output_type": "stream",
     "text": [
      "invested recs: 7\n",
      "user 19\n"
     ]
    },
    {
     "name": "stdout",
     "output_type": "stream",
     "text": [
      "invested recs: 2\n",
      "user 20\n"
     ]
    },
    {
     "name": "stdout",
     "output_type": "stream",
     "text": [
      "invested recs: 4\n",
      "user 21\n"
     ]
    },
    {
     "name": "stdout",
     "output_type": "stream",
     "text": [
      "invested recs: 2\n",
      "user 22\n"
     ]
    },
    {
     "name": "stdout",
     "output_type": "stream",
     "text": [
      "invested recs: 2\n",
      "user 23\n"
     ]
    },
    {
     "name": "stdout",
     "output_type": "stream",
     "text": [
      "invested recs: 10\n",
      "user 24\n"
     ]
    },
    {
     "name": "stdout",
     "output_type": "stream",
     "text": [
      "invested recs: 4\n",
      "user 25\n"
     ]
    },
    {
     "name": "stdout",
     "output_type": "stream",
     "text": [
      "invested recs: 2\n",
      "user 26\n"
     ]
    },
    {
     "name": "stdout",
     "output_type": "stream",
     "text": [
      "invested recs: 4\n",
      "user 27\n"
     ]
    },
    {
     "name": "stdout",
     "output_type": "stream",
     "text": [
      "invested recs: 3\n",
      "user 28\n"
     ]
    },
    {
     "name": "stdout",
     "output_type": "stream",
     "text": [
      "invested recs: 9\n",
      "user 29\n"
     ]
    },
    {
     "name": "stdout",
     "output_type": "stream",
     "text": [
      "invested recs: 17\n",
      "user 30\n"
     ]
    },
    {
     "name": "stdout",
     "output_type": "stream",
     "text": [
      "invested recs: 4\n",
      "user 31\n"
     ]
    },
    {
     "name": "stdout",
     "output_type": "stream",
     "text": [
      "invested recs: 1\n",
      "user 32\n"
     ]
    },
    {
     "name": "stdout",
     "output_type": "stream",
     "text": [
      "invested recs: 0\n",
      "user 33\n"
     ]
    },
    {
     "name": "stdout",
     "output_type": "stream",
     "text": [
      "invested recs: 1\n",
      "user 34\n"
     ]
    },
    {
     "name": "stdout",
     "output_type": "stream",
     "text": [
      "invested recs: 1\n",
      "user 35\n"
     ]
    },
    {
     "name": "stdout",
     "output_type": "stream",
     "text": [
      "invested recs: 3\n",
      "user 36\n"
     ]
    },
    {
     "name": "stdout",
     "output_type": "stream",
     "text": [
      "invested recs: 7\n",
      "user 37\n"
     ]
    },
    {
     "name": "stdout",
     "output_type": "stream",
     "text": [
      "invested recs: 8\n",
      "user 38\n"
     ]
    },
    {
     "name": "stdout",
     "output_type": "stream",
     "text": [
      "invested recs: 3\n",
      "user 39\n"
     ]
    },
    {
     "name": "stdout",
     "output_type": "stream",
     "text": [
      "invested recs: 4\n",
      "user 40\n"
     ]
    },
    {
     "name": "stdout",
     "output_type": "stream",
     "text": [
      "invested recs: 5\n",
      "user 41\n"
     ]
    },
    {
     "name": "stdout",
     "output_type": "stream",
     "text": [
      "invested recs: 2\n",
      "user 42\n"
     ]
    },
    {
     "name": "stdout",
     "output_type": "stream",
     "text": [
      "invested recs: 1\n",
      "user 43\n"
     ]
    },
    {
     "name": "stdout",
     "output_type": "stream",
     "text": [
      "invested recs: 6\n",
      "user 44\n"
     ]
    },
    {
     "name": "stdout",
     "output_type": "stream",
     "text": [
      "invested recs: 2\n",
      "user 45\n"
     ]
    },
    {
     "name": "stdout",
     "output_type": "stream",
     "text": [
      "invested recs: 8\n",
      "user 46\n"
     ]
    },
    {
     "name": "stdout",
     "output_type": "stream",
     "text": [
      "invested recs: 3\n",
      "user 47\n"
     ]
    },
    {
     "name": "stdout",
     "output_type": "stream",
     "text": [
      "invested recs: 4\n",
      "user 48\n"
     ]
    },
    {
     "name": "stdout",
     "output_type": "stream",
     "text": [
      "invested recs: 2\n",
      "user 49\n"
     ]
    },
    {
     "name": "stdout",
     "output_type": "stream",
     "text": [
      "invested recs: 0\n",
      "user 50\n"
     ]
    },
    {
     "name": "stdout",
     "output_type": "stream",
     "text": [
      "invested recs: 6\n",
      "user 51\n"
     ]
    },
    {
     "name": "stdout",
     "output_type": "stream",
     "text": [
      "invested recs: 3\n",
      "user 52\n"
     ]
    },
    {
     "name": "stdout",
     "output_type": "stream",
     "text": [
      "invested recs: 1\n",
      "user 53\n"
     ]
    },
    {
     "name": "stdout",
     "output_type": "stream",
     "text": [
      "invested recs: 8\n",
      "user 54\n"
     ]
    },
    {
     "name": "stdout",
     "output_type": "stream",
     "text": [
      "invested recs: 7\n",
      "user 55\n"
     ]
    },
    {
     "name": "stdout",
     "output_type": "stream",
     "text": [
      "invested recs: 5\n",
      "user 56\n"
     ]
    },
    {
     "name": "stdout",
     "output_type": "stream",
     "text": [
      "invested recs: 3\n",
      "user 57\n"
     ]
    },
    {
     "name": "stdout",
     "output_type": "stream",
     "text": [
      "invested recs: 6\n",
      "user 58\n"
     ]
    },
    {
     "name": "stdout",
     "output_type": "stream",
     "text": [
      "invested recs: 0\n",
      "user 59\n"
     ]
    },
    {
     "name": "stdout",
     "output_type": "stream",
     "text": [
      "invested recs: 8\n",
      "user 60\n"
     ]
    },
    {
     "name": "stdout",
     "output_type": "stream",
     "text": [
      "invested recs: 9\n",
      "user 61\n"
     ]
    },
    {
     "name": "stdout",
     "output_type": "stream",
     "text": [
      "invested recs: 4\n",
      "user 62\n"
     ]
    },
    {
     "name": "stdout",
     "output_type": "stream",
     "text": [
      "invested recs: 9\n",
      "user 63\n"
     ]
    },
    {
     "name": "stdout",
     "output_type": "stream",
     "text": [
      "invested recs: 2\n",
      "user 64\n"
     ]
    },
    {
     "name": "stdout",
     "output_type": "stream",
     "text": [
      "invested recs: 4\n",
      "user 65\n"
     ]
    },
    {
     "name": "stdout",
     "output_type": "stream",
     "text": [
      "invested recs: 9\n",
      "user 66\n"
     ]
    },
    {
     "name": "stdout",
     "output_type": "stream",
     "text": [
      "invested recs: 4\n",
      "user 67\n"
     ]
    },
    {
     "name": "stdout",
     "output_type": "stream",
     "text": [
      "invested recs: 1\n",
      "user 68\n"
     ]
    },
    {
     "name": "stdout",
     "output_type": "stream",
     "text": [
      "invested recs: 15\n",
      "user 69\n"
     ]
    },
    {
     "name": "stdout",
     "output_type": "stream",
     "text": [
      "invested recs: 3\n",
      "user 70\n"
     ]
    },
    {
     "name": "stdout",
     "output_type": "stream",
     "text": [
      "invested recs: 4\n",
      "user 71\n"
     ]
    },
    {
     "name": "stdout",
     "output_type": "stream",
     "text": [
      "invested recs: 4\n",
      "user 72\n"
     ]
    },
    {
     "name": "stdout",
     "output_type": "stream",
     "text": [
      "invested recs: 8\n",
      "user 73\n"
     ]
    },
    {
     "name": "stdout",
     "output_type": "stream",
     "text": [
      "invested recs: 5\n",
      "user 74\n"
     ]
    },
    {
     "name": "stdout",
     "output_type": "stream",
     "text": [
      "invested recs: 7\n",
      "user 75\n"
     ]
    },
    {
     "name": "stdout",
     "output_type": "stream",
     "text": [
      "invested recs: 3\n",
      "user 76\n"
     ]
    },
    {
     "name": "stdout",
     "output_type": "stream",
     "text": [
      "invested recs: 4\n",
      "user 77\n"
     ]
    },
    {
     "name": "stdout",
     "output_type": "stream",
     "text": [
      "invested recs: 9\n",
      "user 78\n"
     ]
    },
    {
     "name": "stdout",
     "output_type": "stream",
     "text": [
      "invested recs: 4\n",
      "user 79\n"
     ]
    },
    {
     "name": "stdout",
     "output_type": "stream",
     "text": [
      "invested recs: 7\n",
      "user 80\n"
     ]
    },
    {
     "name": "stdout",
     "output_type": "stream",
     "text": [
      "invested recs: 10\n",
      "user 81\n"
     ]
    },
    {
     "name": "stdout",
     "output_type": "stream",
     "text": [
      "invested recs: 3\n",
      "user 82\n"
     ]
    },
    {
     "name": "stdout",
     "output_type": "stream",
     "text": [
      "invested recs: 5\n",
      "user 83\n"
     ]
    },
    {
     "name": "stdout",
     "output_type": "stream",
     "text": [
      "invested recs: 4\n",
      "user 84\n"
     ]
    },
    {
     "name": "stdout",
     "output_type": "stream",
     "text": [
      "invested recs: 4\n",
      "user 85\n"
     ]
    },
    {
     "name": "stdout",
     "output_type": "stream",
     "text": [
      "invested recs: 4\n",
      "user 86\n"
     ]
    },
    {
     "name": "stdout",
     "output_type": "stream",
     "text": [
      "invested recs: 11\n",
      "user 87\n"
     ]
    },
    {
     "name": "stdout",
     "output_type": "stream",
     "text": [
      "invested recs: 17\n",
      "user 88\n"
     ]
    },
    {
     "name": "stdout",
     "output_type": "stream",
     "text": [
      "invested recs: 5\n",
      "user 89\n"
     ]
    },
    {
     "name": "stdout",
     "output_type": "stream",
     "text": [
      "invested recs: 6\n",
      "user 90\n"
     ]
    },
    {
     "name": "stdout",
     "output_type": "stream",
     "text": [
      "invested recs: 0\n",
      "user 91\n"
     ]
    },
    {
     "name": "stdout",
     "output_type": "stream",
     "text": [
      "invested recs: 1\n",
      "user 92\n"
     ]
    },
    {
     "name": "stdout",
     "output_type": "stream",
     "text": [
      "invested recs: 8\n",
      "user 93\n"
     ]
    },
    {
     "name": "stdout",
     "output_type": "stream",
     "text": [
      "invested recs: 2\n",
      "user 94\n"
     ]
    },
    {
     "name": "stdout",
     "output_type": "stream",
     "text": [
      "invested recs: 7\n",
      "user 95\n"
     ]
    },
    {
     "name": "stdout",
     "output_type": "stream",
     "text": [
      "invested recs: 5\n",
      "user 96\n"
     ]
    },
    {
     "name": "stdout",
     "output_type": "stream",
     "text": [
      "invested recs: 6\n",
      "user 97\n"
     ]
    },
    {
     "name": "stdout",
     "output_type": "stream",
     "text": [
      "invested recs: 4\n",
      "user 98\n"
     ]
    },
    {
     "name": "stdout",
     "output_type": "stream",
     "text": [
      "invested recs: 10\n",
      "user 99\n"
     ]
    },
    {
     "name": "stdout",
     "output_type": "stream",
     "text": [
      "invested recs: 10\n",
      "user 100\n"
     ]
    },
    {
     "name": "stdout",
     "output_type": "stream",
     "text": [
      "invested recs: 4\n",
      "validated recs: 487\n",
      "validated vs max validatable: 0.2200632625395391\n",
      "ratio: 0.2435\n",
      "\n"
     ]
    }
   ],
   "source": [
    "#Let's test how many of our recommendenations are \"valid\", i.e. recommendations in which the user has never invested\n",
    "user_test= 100\n",
    "validated_recs = 0\n",
    "max_valid_recs = 0\n",
    "total_recs = user_test * 20\n",
    "i = 1\n",
    "for user in df_ratings.BUYER_ADDRESS.drop_duplicates().head(user_test).tolist():\n",
    "    print('user', i)\n",
    "    recs = get_recommendations(user)\n",
    "    df_recs = pd.DataFrame(recs).reset_index().rename(columns={'index': 'product_id'})\n",
    "    df_recs = df_recs.merge(nft_address_to_product_id, how='inner', on = 'product_id')\n",
    "    \n",
    "    df_recs['already_invested'] = df_recs['NFT_ADDRESS'].apply(lambda x : True if x in df_ratings[df_ratings.BUYER_ADDRESS == user].NFT_ADDRESS.unique() else False)\n",
    "    print('invested recs:', df_recs['already_invested'].sum())\n",
    "    \n",
    "    validated_recs += df_recs['already_invested'].sum()\n",
    "    max_valid_recs += len(df_ratings[df_ratings.BUYER_ADDRESS == user].NFT_ADDRESS.unique())\n",
    "    i+=1\n",
    "\n",
    "print(\"validated recs:\", validated_recs)\n",
    "print('validated vs max validatable:', validated_recs/max_valid_recs)\n",
    "print('ratio:', validated_recs/total_recs)\n"
   ]
  },
  {
   "cell_type": "code",
   "execution_count": 22,
   "id": "2b00da56",
   "metadata": {},
   "outputs": [],
   "source": [
    "# For demo: package all results into a simple function taking the user address as input and returns a list of recommended collections\n",
    "def recommenderNFT(user):\n",
    "    top_collection = get_top_collection(user)\n",
    "    top_collection_id = nft_address_to_product_id.loc[nft_address_to_product_id.NFT_ADDRESS == top_collection, 'product_id']\n",
    "    other_collections = pd.Series(\n",
    "        item_similarity.iloc[top_collection_id].values[0]\n",
    "    ).rename('rating').sort_values(ascending = False).head(10).reset_index().merge(\n",
    "        nft_address_to_product_id,\n",
    "        how = 'inner',\n",
    "        left_on = 'index',\n",
    "        right_on = 'product_id'\n",
    "    ).merge(\n",
    "        df_names,\n",
    "        how = 'inner',\n",
    "        on = 'NFT_ADDRESS'\n",
    "    )[1:]['PROJECT_NAME'].to_list()\n",
    "    \n",
    "    print('user:',user)\n",
    "    print('Because you invested in', df_names.at[df_names.loc[df_names.NFT_ADDRESS==top_collection].index[0], 'PROJECT_NAME'])\n",
    "    print('You might like', other_collections)"
   ]
  },
  {
   "cell_type": "code",
   "execution_count": 38,
   "id": "6e9bfc64",
   "metadata": {},
   "outputs": [
    {
     "name": "stdout",
     "output_type": "stream",
     "text": [
      "user: 0x1096b85a3421794c801bdaa757efe5ef6e0ca135\n",
      "Because you invested in degen toonz\n",
      "You might like ['toonz minter rewards card', 'degen toonz', 'detonated toonz', 'lilhottie', 'the uncanny country club', 'angel baby hit squad', 'jarritos', 'wulf boy social club', 'killabears']\n"
     ]
    }
   ],
   "source": [
    "user = '0x1096b85a3421794c801bdaa757efe5ef6e0ca135'\n",
    "recommenderNFT(user)"
   ]
  }
 ],
 "metadata": {
  "kernelspec": {
   "display_name": "Python 3 (ipykernel)",
   "language": "python",
   "name": "python3"
  },
  "language_info": {
   "codemirror_mode": {
    "name": "ipython",
    "version": 3
   },
   "file_extension": ".py",
   "mimetype": "text/x-python",
   "name": "python",
   "nbconvert_exporter": "python",
   "pygments_lexer": "ipython3",
   "version": "3.10.11"
  }
 },
 "nbformat": 4,
 "nbformat_minor": 5
}
