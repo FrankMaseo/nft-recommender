{
 "cells": [
  {
   "cell_type": "code",
   "execution_count": 25,
   "id": "27663ddc",
   "metadata": {},
   "outputs": [
    {
     "name": "stdout",
     "output_type": "stream",
     "text": [
      "df size 1499889\n",
      "n° collections 3774\n",
      "n° users 117267\n",
      "n° transactions 3794085.0\n"
     ]
    }
   ],
   "source": [
    "import pandas as pd\n",
    "import math\n",
    "\n",
    "##Add filter to remove collections with less than X sales\n",
    "\n",
    "df_ratings = pd.concat(\n",
    "    [pd.read_csv('nft-buys-'+str(x)+'.csv') for x in range(0,15)]\n",
    "    , axis = 0\n",
    "    , ignore_index = True\n",
    ").sort_values(\n",
    "    by = 'NO_BUYS'\n",
    "    ,ascending = False\n",
    ").drop_duplicates(\n",
    "    subset=['BUYER_ADDRESS','NFT_ADDRESS']\n",
    "    , keep='first'\n",
    "    , ignore_index=False\n",
    ").reset_index(\n",
    "    drop = True\n",
    ")\n",
    "\n",
    "df_user_buys = df_ratings.groupby('BUYER_ADDRESS')['NO_BUYS'].max().rename('MAX_BUYS')\n",
    "\n",
    "df_ratings = df_ratings.merge(df_user_buys, how='inner',on='BUYER_ADDRESS')\n",
    "\n",
    "del df_user_buys\n",
    "\n",
    "df_ratings['ratings_lin'] = df_ratings.NO_BUYS / df_ratings.MAX_BUYS\n",
    "\n",
    "#sqrt ratings to accentuate weight of at least 1 buy\n",
    "df_ratings['ratings'] = df_ratings.ratings_lin.apply(lambda x : math.sqrt(x))\n",
    "\n",
    "print(\"df size\", len(df_ratings.BUYER_ADDRESS.tolist()))\n",
    "print(\"n° collections\", len(df_ratings.NFT_ADDRESS.unique()))\n",
    "print(\"n° users\", len(df_ratings.BUYER_ADDRESS.unique()))\n",
    "print(\"n° transactions\", int(df_ratings.NO_BUYS.sum()))"
   ]
  },
  {
   "cell_type": "code",
   "execution_count": 2,
   "id": "fda0f5fb",
   "metadata": {},
   "outputs": [],
   "source": [
    "nft_address_to_product_id = pd.DataFrame(\n",
    "    df_ratings.NFT_ADDRESS.drop_duplicates()\n",
    ").reset_index(drop=True).reset_index().rename(columns={'index':'product_id'})\n",
    "\n",
    "df_names = pd.read_csv('nft-names.csv')\n",
    "\n",
    "df_names = df_names.sort_values(\n",
    "    by='PROJECT_NAME',\n",
    "    ascending = False\n",
    ").drop_duplicates(\n",
    "    subset = ['NFT_ADDRESS']\n",
    ")"
   ]
  },
  {
   "cell_type": "code",
   "execution_count": 3,
   "id": "fa389624",
   "metadata": {},
   "outputs": [],
   "source": [
    "from sklearn.metrics.pairwise import cosine_similarity\n",
    "import numpy as np\n",
    "\n",
    "# Load and pre-process the data\n",
    "data = df_ratings.merge(\n",
    "    nft_address_to_product_id\n",
    "    ,how='inner'\n",
    "    , on='NFT_ADDRESS'\n",
    ").dropna().rename(\n",
    "    columns = {'BUYER_ADDRESS': 'user_id','ratings':'rating'}\n",
    ")[['user_id','product_id','rating']].copy()\n",
    "\n",
    "#user/product matrix\n",
    "data = data.pivot_table(index='user_id', columns='product_id', values='rating').fillna(0)\n",
    "\n",
    "# Compute the item-item similarity matrix\n",
    "item_similarity = pd.DataFrame(cosine_similarity(data.T))"
   ]
  },
  {
   "cell_type": "code",
   "execution_count": 19,
   "id": "146ac7f2",
   "metadata": {},
   "outputs": [],
   "source": [
    "def get_most_similar_products(product_id, rating):\n",
    "    similar_scores = item_similarity.iloc[product_id]*rating\n",
    "    similar_scores = similar_scores.sort_values(ascending=False)\n",
    "    return similar_scores[similar_scores.index != product_id].head(20)"
   ]
  },
  {
   "cell_type": "code",
   "execution_count": 20,
   "id": "9ad757e7",
   "metadata": {},
   "outputs": [],
   "source": [
    "import random \n",
    "def get_recommendations(user_id):\n",
    "    user_ratings = data.loc[user_id].dropna()\n",
    "    recommendations = pd.Series()\n",
    "\n",
    "    for product_id, rating in user_ratings[user_ratings>0].sort_values(ascending = False).head(10).items():\n",
    "        similar_products = get_most_similar_products(product_id, rating)\n",
    "        recommendations = pd.concat([recommendations,similar_products])\n",
    "    \n",
    "    # Aggregate the recommendations\n",
    "    recommendations = recommendations.groupby(recommendations.index).sum()\n",
    "    recommendations = recommendations.sort_values(ascending=False)\n",
    "    return recommendations.head(20)\n",
    "\n",
    "def get_top_collection(user):\n",
    "    #randomized with top 3 collections\n",
    "    collections = df_ratings[df_ratings.BUYER_ADDRESS == user]['NFT_ADDRESS'].head(3).to_list()\n",
    "    weights= [1,1,1]\n",
    "    return random.choices(collections, weights)[0]\n",
    "    "
   ]
  },
  {
   "cell_type": "code",
   "execution_count": 33,
   "id": "42d1a494",
   "metadata": {},
   "outputs": [
    {
     "name": "stdout",
     "output_type": "stream",
     "text": [
      "user 1\n"
     ]
    },
    {
     "name": "stderr",
     "output_type": "stream",
     "text": [
      "C:\\Users\\LeoDu\\AppData\\Local\\Temp\\ipykernel_3536\\1061699521.py:4: FutureWarning: The default dtype for empty Series will be 'object' instead of 'float64' in a future version. Specify a dtype explicitly to silence this warning.\n",
      "  recommendations = pd.Series()\n"
     ]
    },
    {
     "name": "stdout",
     "output_type": "stream",
     "text": [
      "invested recs: 3\n",
      "user 2\n"
     ]
    },
    {
     "name": "stderr",
     "output_type": "stream",
     "text": [
      "C:\\Users\\LeoDu\\AppData\\Local\\Temp\\ipykernel_3536\\1061699521.py:4: FutureWarning: The default dtype for empty Series will be 'object' instead of 'float64' in a future version. Specify a dtype explicitly to silence this warning.\n",
      "  recommendations = pd.Series()\n"
     ]
    },
    {
     "name": "stdout",
     "output_type": "stream",
     "text": [
      "invested recs: 2\n",
      "user 3\n"
     ]
    },
    {
     "name": "stderr",
     "output_type": "stream",
     "text": [
      "C:\\Users\\LeoDu\\AppData\\Local\\Temp\\ipykernel_3536\\1061699521.py:4: FutureWarning: The default dtype for empty Series will be 'object' instead of 'float64' in a future version. Specify a dtype explicitly to silence this warning.\n",
      "  recommendations = pd.Series()\n"
     ]
    },
    {
     "name": "stdout",
     "output_type": "stream",
     "text": [
      "invested recs: 1\n",
      "user 4\n"
     ]
    },
    {
     "name": "stderr",
     "output_type": "stream",
     "text": [
      "C:\\Users\\LeoDu\\AppData\\Local\\Temp\\ipykernel_3536\\1061699521.py:4: FutureWarning: The default dtype for empty Series will be 'object' instead of 'float64' in a future version. Specify a dtype explicitly to silence this warning.\n",
      "  recommendations = pd.Series()\n"
     ]
    },
    {
     "name": "stdout",
     "output_type": "stream",
     "text": [
      "invested recs: 6\n",
      "user 5\n"
     ]
    },
    {
     "name": "stderr",
     "output_type": "stream",
     "text": [
      "C:\\Users\\LeoDu\\AppData\\Local\\Temp\\ipykernel_3536\\1061699521.py:4: FutureWarning: The default dtype for empty Series will be 'object' instead of 'float64' in a future version. Specify a dtype explicitly to silence this warning.\n",
      "  recommendations = pd.Series()\n"
     ]
    },
    {
     "name": "stdout",
     "output_type": "stream",
     "text": [
      "invested recs: 1\n",
      "user 6\n"
     ]
    },
    {
     "name": "stderr",
     "output_type": "stream",
     "text": [
      "C:\\Users\\LeoDu\\AppData\\Local\\Temp\\ipykernel_3536\\1061699521.py:4: FutureWarning: The default dtype for empty Series will be 'object' instead of 'float64' in a future version. Specify a dtype explicitly to silence this warning.\n",
      "  recommendations = pd.Series()\n"
     ]
    },
    {
     "name": "stdout",
     "output_type": "stream",
     "text": [
      "invested recs: 4\n",
      "user 7\n"
     ]
    },
    {
     "name": "stderr",
     "output_type": "stream",
     "text": [
      "C:\\Users\\LeoDu\\AppData\\Local\\Temp\\ipykernel_3536\\1061699521.py:4: FutureWarning: The default dtype for empty Series will be 'object' instead of 'float64' in a future version. Specify a dtype explicitly to silence this warning.\n",
      "  recommendations = pd.Series()\n"
     ]
    },
    {
     "name": "stdout",
     "output_type": "stream",
     "text": [
      "invested recs: 9\n",
      "user 8\n"
     ]
    },
    {
     "name": "stderr",
     "output_type": "stream",
     "text": [
      "C:\\Users\\LeoDu\\AppData\\Local\\Temp\\ipykernel_3536\\1061699521.py:4: FutureWarning: The default dtype for empty Series will be 'object' instead of 'float64' in a future version. Specify a dtype explicitly to silence this warning.\n",
      "  recommendations = pd.Series()\n"
     ]
    },
    {
     "name": "stdout",
     "output_type": "stream",
     "text": [
      "invested recs: 1\n",
      "user 9\n"
     ]
    },
    {
     "name": "stderr",
     "output_type": "stream",
     "text": [
      "C:\\Users\\LeoDu\\AppData\\Local\\Temp\\ipykernel_3536\\1061699521.py:4: FutureWarning: The default dtype for empty Series will be 'object' instead of 'float64' in a future version. Specify a dtype explicitly to silence this warning.\n",
      "  recommendations = pd.Series()\n"
     ]
    },
    {
     "name": "stdout",
     "output_type": "stream",
     "text": [
      "invested recs: 11\n",
      "user 10\n"
     ]
    },
    {
     "name": "stderr",
     "output_type": "stream",
     "text": [
      "C:\\Users\\LeoDu\\AppData\\Local\\Temp\\ipykernel_3536\\1061699521.py:4: FutureWarning: The default dtype for empty Series will be 'object' instead of 'float64' in a future version. Specify a dtype explicitly to silence this warning.\n",
      "  recommendations = pd.Series()\n"
     ]
    },
    {
     "name": "stdout",
     "output_type": "stream",
     "text": [
      "invested recs: 3\n",
      "user 11\n"
     ]
    },
    {
     "name": "stderr",
     "output_type": "stream",
     "text": [
      "C:\\Users\\LeoDu\\AppData\\Local\\Temp\\ipykernel_3536\\1061699521.py:4: FutureWarning: The default dtype for empty Series will be 'object' instead of 'float64' in a future version. Specify a dtype explicitly to silence this warning.\n",
      "  recommendations = pd.Series()\n"
     ]
    },
    {
     "name": "stdout",
     "output_type": "stream",
     "text": [
      "invested recs: 6\n",
      "user 12\n"
     ]
    },
    {
     "name": "stderr",
     "output_type": "stream",
     "text": [
      "C:\\Users\\LeoDu\\AppData\\Local\\Temp\\ipykernel_3536\\1061699521.py:4: FutureWarning: The default dtype for empty Series will be 'object' instead of 'float64' in a future version. Specify a dtype explicitly to silence this warning.\n",
      "  recommendations = pd.Series()\n"
     ]
    },
    {
     "name": "stdout",
     "output_type": "stream",
     "text": [
      "invested recs: 3\n",
      "user 13\n"
     ]
    },
    {
     "name": "stderr",
     "output_type": "stream",
     "text": [
      "C:\\Users\\LeoDu\\AppData\\Local\\Temp\\ipykernel_3536\\1061699521.py:4: FutureWarning: The default dtype for empty Series will be 'object' instead of 'float64' in a future version. Specify a dtype explicitly to silence this warning.\n",
      "  recommendations = pd.Series()\n"
     ]
    },
    {
     "name": "stdout",
     "output_type": "stream",
     "text": [
      "invested recs: 1\n",
      "user 14\n"
     ]
    },
    {
     "name": "stderr",
     "output_type": "stream",
     "text": [
      "C:\\Users\\LeoDu\\AppData\\Local\\Temp\\ipykernel_3536\\1061699521.py:4: FutureWarning: The default dtype for empty Series will be 'object' instead of 'float64' in a future version. Specify a dtype explicitly to silence this warning.\n",
      "  recommendations = pd.Series()\n"
     ]
    },
    {
     "name": "stdout",
     "output_type": "stream",
     "text": [
      "invested recs: 7\n",
      "user 15\n"
     ]
    },
    {
     "name": "stderr",
     "output_type": "stream",
     "text": [
      "C:\\Users\\LeoDu\\AppData\\Local\\Temp\\ipykernel_3536\\1061699521.py:4: FutureWarning: The default dtype for empty Series will be 'object' instead of 'float64' in a future version. Specify a dtype explicitly to silence this warning.\n",
      "  recommendations = pd.Series()\n"
     ]
    },
    {
     "name": "stdout",
     "output_type": "stream",
     "text": [
      "invested recs: 2\n",
      "user 16\n"
     ]
    },
    {
     "name": "stderr",
     "output_type": "stream",
     "text": [
      "C:\\Users\\LeoDu\\AppData\\Local\\Temp\\ipykernel_3536\\1061699521.py:4: FutureWarning: The default dtype for empty Series will be 'object' instead of 'float64' in a future version. Specify a dtype explicitly to silence this warning.\n",
      "  recommendations = pd.Series()\n"
     ]
    },
    {
     "name": "stdout",
     "output_type": "stream",
     "text": [
      "invested recs: 3\n",
      "user 17\n"
     ]
    },
    {
     "name": "stderr",
     "output_type": "stream",
     "text": [
      "C:\\Users\\LeoDu\\AppData\\Local\\Temp\\ipykernel_3536\\1061699521.py:4: FutureWarning: The default dtype for empty Series will be 'object' instead of 'float64' in a future version. Specify a dtype explicitly to silence this warning.\n",
      "  recommendations = pd.Series()\n"
     ]
    },
    {
     "name": "stdout",
     "output_type": "stream",
     "text": [
      "invested recs: 5\n",
      "user 18\n"
     ]
    },
    {
     "name": "stderr",
     "output_type": "stream",
     "text": [
      "C:\\Users\\LeoDu\\AppData\\Local\\Temp\\ipykernel_3536\\1061699521.py:4: FutureWarning: The default dtype for empty Series will be 'object' instead of 'float64' in a future version. Specify a dtype explicitly to silence this warning.\n",
      "  recommendations = pd.Series()\n"
     ]
    },
    {
     "name": "stdout",
     "output_type": "stream",
     "text": [
      "invested recs: 7\n",
      "user 19\n"
     ]
    },
    {
     "name": "stderr",
     "output_type": "stream",
     "text": [
      "C:\\Users\\LeoDu\\AppData\\Local\\Temp\\ipykernel_3536\\1061699521.py:4: FutureWarning: The default dtype for empty Series will be 'object' instead of 'float64' in a future version. Specify a dtype explicitly to silence this warning.\n",
      "  recommendations = pd.Series()\n"
     ]
    },
    {
     "name": "stdout",
     "output_type": "stream",
     "text": [
      "invested recs: 2\n",
      "user 20\n"
     ]
    },
    {
     "name": "stderr",
     "output_type": "stream",
     "text": [
      "C:\\Users\\LeoDu\\AppData\\Local\\Temp\\ipykernel_3536\\1061699521.py:4: FutureWarning: The default dtype for empty Series will be 'object' instead of 'float64' in a future version. Specify a dtype explicitly to silence this warning.\n",
      "  recommendations = pd.Series()\n"
     ]
    },
    {
     "name": "stdout",
     "output_type": "stream",
     "text": [
      "invested recs: 4\n",
      "user 21\n"
     ]
    },
    {
     "name": "stderr",
     "output_type": "stream",
     "text": [
      "C:\\Users\\LeoDu\\AppData\\Local\\Temp\\ipykernel_3536\\1061699521.py:4: FutureWarning: The default dtype for empty Series will be 'object' instead of 'float64' in a future version. Specify a dtype explicitly to silence this warning.\n",
      "  recommendations = pd.Series()\n"
     ]
    },
    {
     "name": "stdout",
     "output_type": "stream",
     "text": [
      "invested recs: 2\n",
      "user 22\n"
     ]
    },
    {
     "name": "stderr",
     "output_type": "stream",
     "text": [
      "C:\\Users\\LeoDu\\AppData\\Local\\Temp\\ipykernel_3536\\1061699521.py:4: FutureWarning: The default dtype for empty Series will be 'object' instead of 'float64' in a future version. Specify a dtype explicitly to silence this warning.\n",
      "  recommendations = pd.Series()\n"
     ]
    },
    {
     "name": "stdout",
     "output_type": "stream",
     "text": [
      "invested recs: 2\n",
      "user 23\n"
     ]
    },
    {
     "name": "stderr",
     "output_type": "stream",
     "text": [
      "C:\\Users\\LeoDu\\AppData\\Local\\Temp\\ipykernel_3536\\1061699521.py:4: FutureWarning: The default dtype for empty Series will be 'object' instead of 'float64' in a future version. Specify a dtype explicitly to silence this warning.\n",
      "  recommendations = pd.Series()\n"
     ]
    },
    {
     "name": "stdout",
     "output_type": "stream",
     "text": [
      "invested recs: 10\n",
      "user 24\n"
     ]
    },
    {
     "name": "stderr",
     "output_type": "stream",
     "text": [
      "C:\\Users\\LeoDu\\AppData\\Local\\Temp\\ipykernel_3536\\1061699521.py:4: FutureWarning: The default dtype for empty Series will be 'object' instead of 'float64' in a future version. Specify a dtype explicitly to silence this warning.\n",
      "  recommendations = pd.Series()\n"
     ]
    },
    {
     "name": "stdout",
     "output_type": "stream",
     "text": [
      "invested recs: 4\n",
      "user 25\n"
     ]
    },
    {
     "name": "stderr",
     "output_type": "stream",
     "text": [
      "C:\\Users\\LeoDu\\AppData\\Local\\Temp\\ipykernel_3536\\1061699521.py:4: FutureWarning: The default dtype for empty Series will be 'object' instead of 'float64' in a future version. Specify a dtype explicitly to silence this warning.\n",
      "  recommendations = pd.Series()\n"
     ]
    },
    {
     "name": "stdout",
     "output_type": "stream",
     "text": [
      "invested recs: 2\n",
      "user 26\n"
     ]
    },
    {
     "name": "stderr",
     "output_type": "stream",
     "text": [
      "C:\\Users\\LeoDu\\AppData\\Local\\Temp\\ipykernel_3536\\1061699521.py:4: FutureWarning: The default dtype for empty Series will be 'object' instead of 'float64' in a future version. Specify a dtype explicitly to silence this warning.\n",
      "  recommendations = pd.Series()\n"
     ]
    },
    {
     "name": "stdout",
     "output_type": "stream",
     "text": [
      "invested recs: 4\n",
      "user 27\n"
     ]
    },
    {
     "name": "stderr",
     "output_type": "stream",
     "text": [
      "C:\\Users\\LeoDu\\AppData\\Local\\Temp\\ipykernel_3536\\1061699521.py:4: FutureWarning: The default dtype for empty Series will be 'object' instead of 'float64' in a future version. Specify a dtype explicitly to silence this warning.\n",
      "  recommendations = pd.Series()\n"
     ]
    },
    {
     "name": "stdout",
     "output_type": "stream",
     "text": [
      "invested recs: 3\n",
      "user 28\n"
     ]
    },
    {
     "name": "stderr",
     "output_type": "stream",
     "text": [
      "C:\\Users\\LeoDu\\AppData\\Local\\Temp\\ipykernel_3536\\1061699521.py:4: FutureWarning: The default dtype for empty Series will be 'object' instead of 'float64' in a future version. Specify a dtype explicitly to silence this warning.\n",
      "  recommendations = pd.Series()\n"
     ]
    },
    {
     "name": "stdout",
     "output_type": "stream",
     "text": [
      "invested recs: 9\n",
      "user 29\n"
     ]
    },
    {
     "name": "stderr",
     "output_type": "stream",
     "text": [
      "C:\\Users\\LeoDu\\AppData\\Local\\Temp\\ipykernel_3536\\1061699521.py:4: FutureWarning: The default dtype for empty Series will be 'object' instead of 'float64' in a future version. Specify a dtype explicitly to silence this warning.\n",
      "  recommendations = pd.Series()\n"
     ]
    },
    {
     "name": "stdout",
     "output_type": "stream",
     "text": [
      "invested recs: 17\n",
      "user 30\n"
     ]
    },
    {
     "name": "stderr",
     "output_type": "stream",
     "text": [
      "C:\\Users\\LeoDu\\AppData\\Local\\Temp\\ipykernel_3536\\1061699521.py:4: FutureWarning: The default dtype for empty Series will be 'object' instead of 'float64' in a future version. Specify a dtype explicitly to silence this warning.\n",
      "  recommendations = pd.Series()\n"
     ]
    },
    {
     "name": "stdout",
     "output_type": "stream",
     "text": [
      "invested recs: 4\n",
      "user 31\n"
     ]
    },
    {
     "name": "stderr",
     "output_type": "stream",
     "text": [
      "C:\\Users\\LeoDu\\AppData\\Local\\Temp\\ipykernel_3536\\1061699521.py:4: FutureWarning: The default dtype for empty Series will be 'object' instead of 'float64' in a future version. Specify a dtype explicitly to silence this warning.\n",
      "  recommendations = pd.Series()\n"
     ]
    },
    {
     "name": "stdout",
     "output_type": "stream",
     "text": [
      "invested recs: 1\n",
      "user 32\n"
     ]
    },
    {
     "name": "stderr",
     "output_type": "stream",
     "text": [
      "C:\\Users\\LeoDu\\AppData\\Local\\Temp\\ipykernel_3536\\1061699521.py:4: FutureWarning: The default dtype for empty Series will be 'object' instead of 'float64' in a future version. Specify a dtype explicitly to silence this warning.\n",
      "  recommendations = pd.Series()\n"
     ]
    },
    {
     "name": "stdout",
     "output_type": "stream",
     "text": [
      "invested recs: 0\n",
      "user 33\n"
     ]
    },
    {
     "name": "stderr",
     "output_type": "stream",
     "text": [
      "C:\\Users\\LeoDu\\AppData\\Local\\Temp\\ipykernel_3536\\1061699521.py:4: FutureWarning: The default dtype for empty Series will be 'object' instead of 'float64' in a future version. Specify a dtype explicitly to silence this warning.\n",
      "  recommendations = pd.Series()\n"
     ]
    },
    {
     "name": "stdout",
     "output_type": "stream",
     "text": [
      "invested recs: 1\n",
      "user 34\n"
     ]
    },
    {
     "name": "stderr",
     "output_type": "stream",
     "text": [
      "C:\\Users\\LeoDu\\AppData\\Local\\Temp\\ipykernel_3536\\1061699521.py:4: FutureWarning: The default dtype for empty Series will be 'object' instead of 'float64' in a future version. Specify a dtype explicitly to silence this warning.\n",
      "  recommendations = pd.Series()\n"
     ]
    },
    {
     "name": "stdout",
     "output_type": "stream",
     "text": [
      "invested recs: 1\n",
      "user 35\n"
     ]
    },
    {
     "name": "stderr",
     "output_type": "stream",
     "text": [
      "C:\\Users\\LeoDu\\AppData\\Local\\Temp\\ipykernel_3536\\1061699521.py:4: FutureWarning: The default dtype for empty Series will be 'object' instead of 'float64' in a future version. Specify a dtype explicitly to silence this warning.\n",
      "  recommendations = pd.Series()\n"
     ]
    },
    {
     "name": "stdout",
     "output_type": "stream",
     "text": [
      "invested recs: 3\n",
      "user 36\n"
     ]
    },
    {
     "name": "stderr",
     "output_type": "stream",
     "text": [
      "C:\\Users\\LeoDu\\AppData\\Local\\Temp\\ipykernel_3536\\1061699521.py:4: FutureWarning: The default dtype for empty Series will be 'object' instead of 'float64' in a future version. Specify a dtype explicitly to silence this warning.\n",
      "  recommendations = pd.Series()\n"
     ]
    },
    {
     "name": "stdout",
     "output_type": "stream",
     "text": [
      "invested recs: 7\n",
      "user 37\n"
     ]
    },
    {
     "name": "stderr",
     "output_type": "stream",
     "text": [
      "C:\\Users\\LeoDu\\AppData\\Local\\Temp\\ipykernel_3536\\1061699521.py:4: FutureWarning: The default dtype for empty Series will be 'object' instead of 'float64' in a future version. Specify a dtype explicitly to silence this warning.\n",
      "  recommendations = pd.Series()\n"
     ]
    },
    {
     "name": "stdout",
     "output_type": "stream",
     "text": [
      "invested recs: 8\n",
      "user 38\n"
     ]
    },
    {
     "name": "stderr",
     "output_type": "stream",
     "text": [
      "C:\\Users\\LeoDu\\AppData\\Local\\Temp\\ipykernel_3536\\1061699521.py:4: FutureWarning: The default dtype for empty Series will be 'object' instead of 'float64' in a future version. Specify a dtype explicitly to silence this warning.\n",
      "  recommendations = pd.Series()\n"
     ]
    },
    {
     "name": "stdout",
     "output_type": "stream",
     "text": [
      "invested recs: 3\n",
      "user 39\n"
     ]
    },
    {
     "name": "stderr",
     "output_type": "stream",
     "text": [
      "C:\\Users\\LeoDu\\AppData\\Local\\Temp\\ipykernel_3536\\1061699521.py:4: FutureWarning: The default dtype for empty Series will be 'object' instead of 'float64' in a future version. Specify a dtype explicitly to silence this warning.\n",
      "  recommendations = pd.Series()\n"
     ]
    },
    {
     "name": "stdout",
     "output_type": "stream",
     "text": [
      "invested recs: 4\n",
      "user 40\n"
     ]
    },
    {
     "name": "stderr",
     "output_type": "stream",
     "text": [
      "C:\\Users\\LeoDu\\AppData\\Local\\Temp\\ipykernel_3536\\1061699521.py:4: FutureWarning: The default dtype for empty Series will be 'object' instead of 'float64' in a future version. Specify a dtype explicitly to silence this warning.\n",
      "  recommendations = pd.Series()\n"
     ]
    },
    {
     "name": "stdout",
     "output_type": "stream",
     "text": [
      "invested recs: 5\n",
      "user 41\n"
     ]
    },
    {
     "name": "stderr",
     "output_type": "stream",
     "text": [
      "C:\\Users\\LeoDu\\AppData\\Local\\Temp\\ipykernel_3536\\1061699521.py:4: FutureWarning: The default dtype for empty Series will be 'object' instead of 'float64' in a future version. Specify a dtype explicitly to silence this warning.\n",
      "  recommendations = pd.Series()\n"
     ]
    },
    {
     "name": "stdout",
     "output_type": "stream",
     "text": [
      "invested recs: 2\n",
      "user 42\n"
     ]
    },
    {
     "name": "stderr",
     "output_type": "stream",
     "text": [
      "C:\\Users\\LeoDu\\AppData\\Local\\Temp\\ipykernel_3536\\1061699521.py:4: FutureWarning: The default dtype for empty Series will be 'object' instead of 'float64' in a future version. Specify a dtype explicitly to silence this warning.\n",
      "  recommendations = pd.Series()\n"
     ]
    },
    {
     "name": "stdout",
     "output_type": "stream",
     "text": [
      "invested recs: 1\n",
      "user 43\n"
     ]
    },
    {
     "name": "stderr",
     "output_type": "stream",
     "text": [
      "C:\\Users\\LeoDu\\AppData\\Local\\Temp\\ipykernel_3536\\1061699521.py:4: FutureWarning: The default dtype for empty Series will be 'object' instead of 'float64' in a future version. Specify a dtype explicitly to silence this warning.\n",
      "  recommendations = pd.Series()\n"
     ]
    },
    {
     "name": "stdout",
     "output_type": "stream",
     "text": [
      "invested recs: 6\n",
      "user 44\n"
     ]
    },
    {
     "name": "stderr",
     "output_type": "stream",
     "text": [
      "C:\\Users\\LeoDu\\AppData\\Local\\Temp\\ipykernel_3536\\1061699521.py:4: FutureWarning: The default dtype for empty Series will be 'object' instead of 'float64' in a future version. Specify a dtype explicitly to silence this warning.\n",
      "  recommendations = pd.Series()\n"
     ]
    },
    {
     "name": "stdout",
     "output_type": "stream",
     "text": [
      "invested recs: 2\n",
      "user 45\n"
     ]
    },
    {
     "name": "stderr",
     "output_type": "stream",
     "text": [
      "C:\\Users\\LeoDu\\AppData\\Local\\Temp\\ipykernel_3536\\1061699521.py:4: FutureWarning: The default dtype for empty Series will be 'object' instead of 'float64' in a future version. Specify a dtype explicitly to silence this warning.\n",
      "  recommendations = pd.Series()\n"
     ]
    },
    {
     "name": "stdout",
     "output_type": "stream",
     "text": [
      "invested recs: 8\n",
      "user 46\n"
     ]
    },
    {
     "name": "stderr",
     "output_type": "stream",
     "text": [
      "C:\\Users\\LeoDu\\AppData\\Local\\Temp\\ipykernel_3536\\1061699521.py:4: FutureWarning: The default dtype for empty Series will be 'object' instead of 'float64' in a future version. Specify a dtype explicitly to silence this warning.\n",
      "  recommendations = pd.Series()\n"
     ]
    },
    {
     "name": "stdout",
     "output_type": "stream",
     "text": [
      "invested recs: 3\n",
      "user 47\n"
     ]
    },
    {
     "name": "stderr",
     "output_type": "stream",
     "text": [
      "C:\\Users\\LeoDu\\AppData\\Local\\Temp\\ipykernel_3536\\1061699521.py:4: FutureWarning: The default dtype for empty Series will be 'object' instead of 'float64' in a future version. Specify a dtype explicitly to silence this warning.\n",
      "  recommendations = pd.Series()\n"
     ]
    },
    {
     "name": "stdout",
     "output_type": "stream",
     "text": [
      "invested recs: 4\n",
      "user 48\n"
     ]
    },
    {
     "name": "stderr",
     "output_type": "stream",
     "text": [
      "C:\\Users\\LeoDu\\AppData\\Local\\Temp\\ipykernel_3536\\1061699521.py:4: FutureWarning: The default dtype for empty Series will be 'object' instead of 'float64' in a future version. Specify a dtype explicitly to silence this warning.\n",
      "  recommendations = pd.Series()\n"
     ]
    },
    {
     "name": "stdout",
     "output_type": "stream",
     "text": [
      "invested recs: 2\n",
      "user 49\n"
     ]
    },
    {
     "name": "stderr",
     "output_type": "stream",
     "text": [
      "C:\\Users\\LeoDu\\AppData\\Local\\Temp\\ipykernel_3536\\1061699521.py:4: FutureWarning: The default dtype for empty Series will be 'object' instead of 'float64' in a future version. Specify a dtype explicitly to silence this warning.\n",
      "  recommendations = pd.Series()\n"
     ]
    },
    {
     "name": "stdout",
     "output_type": "stream",
     "text": [
      "invested recs: 0\n",
      "user 50\n"
     ]
    },
    {
     "name": "stderr",
     "output_type": "stream",
     "text": [
      "C:\\Users\\LeoDu\\AppData\\Local\\Temp\\ipykernel_3536\\1061699521.py:4: FutureWarning: The default dtype for empty Series will be 'object' instead of 'float64' in a future version. Specify a dtype explicitly to silence this warning.\n",
      "  recommendations = pd.Series()\n"
     ]
    },
    {
     "name": "stdout",
     "output_type": "stream",
     "text": [
      "invested recs: 6\n",
      "user 51\n"
     ]
    },
    {
     "name": "stderr",
     "output_type": "stream",
     "text": [
      "C:\\Users\\LeoDu\\AppData\\Local\\Temp\\ipykernel_3536\\1061699521.py:4: FutureWarning: The default dtype for empty Series will be 'object' instead of 'float64' in a future version. Specify a dtype explicitly to silence this warning.\n",
      "  recommendations = pd.Series()\n"
     ]
    },
    {
     "name": "stdout",
     "output_type": "stream",
     "text": [
      "invested recs: 3\n",
      "user 52\n"
     ]
    },
    {
     "name": "stderr",
     "output_type": "stream",
     "text": [
      "C:\\Users\\LeoDu\\AppData\\Local\\Temp\\ipykernel_3536\\1061699521.py:4: FutureWarning: The default dtype for empty Series will be 'object' instead of 'float64' in a future version. Specify a dtype explicitly to silence this warning.\n",
      "  recommendations = pd.Series()\n"
     ]
    },
    {
     "name": "stdout",
     "output_type": "stream",
     "text": [
      "invested recs: 1\n",
      "user 53\n"
     ]
    },
    {
     "name": "stderr",
     "output_type": "stream",
     "text": [
      "C:\\Users\\LeoDu\\AppData\\Local\\Temp\\ipykernel_3536\\1061699521.py:4: FutureWarning: The default dtype for empty Series will be 'object' instead of 'float64' in a future version. Specify a dtype explicitly to silence this warning.\n",
      "  recommendations = pd.Series()\n"
     ]
    },
    {
     "name": "stdout",
     "output_type": "stream",
     "text": [
      "invested recs: 8\n",
      "user 54\n"
     ]
    },
    {
     "name": "stderr",
     "output_type": "stream",
     "text": [
      "C:\\Users\\LeoDu\\AppData\\Local\\Temp\\ipykernel_3536\\1061699521.py:4: FutureWarning: The default dtype for empty Series will be 'object' instead of 'float64' in a future version. Specify a dtype explicitly to silence this warning.\n",
      "  recommendations = pd.Series()\n"
     ]
    },
    {
     "name": "stdout",
     "output_type": "stream",
     "text": [
      "invested recs: 7\n",
      "user 55\n"
     ]
    },
    {
     "name": "stderr",
     "output_type": "stream",
     "text": [
      "C:\\Users\\LeoDu\\AppData\\Local\\Temp\\ipykernel_3536\\1061699521.py:4: FutureWarning: The default dtype for empty Series will be 'object' instead of 'float64' in a future version. Specify a dtype explicitly to silence this warning.\n",
      "  recommendations = pd.Series()\n"
     ]
    },
    {
     "name": "stdout",
     "output_type": "stream",
     "text": [
      "invested recs: 5\n",
      "user 56\n"
     ]
    },
    {
     "name": "stderr",
     "output_type": "stream",
     "text": [
      "C:\\Users\\LeoDu\\AppData\\Local\\Temp\\ipykernel_3536\\1061699521.py:4: FutureWarning: The default dtype for empty Series will be 'object' instead of 'float64' in a future version. Specify a dtype explicitly to silence this warning.\n",
      "  recommendations = pd.Series()\n"
     ]
    },
    {
     "name": "stdout",
     "output_type": "stream",
     "text": [
      "invested recs: 3\n",
      "user 57\n"
     ]
    },
    {
     "name": "stderr",
     "output_type": "stream",
     "text": [
      "C:\\Users\\LeoDu\\AppData\\Local\\Temp\\ipykernel_3536\\1061699521.py:4: FutureWarning: The default dtype for empty Series will be 'object' instead of 'float64' in a future version. Specify a dtype explicitly to silence this warning.\n",
      "  recommendations = pd.Series()\n"
     ]
    },
    {
     "name": "stdout",
     "output_type": "stream",
     "text": [
      "invested recs: 6\n",
      "user 58\n"
     ]
    },
    {
     "name": "stderr",
     "output_type": "stream",
     "text": [
      "C:\\Users\\LeoDu\\AppData\\Local\\Temp\\ipykernel_3536\\1061699521.py:4: FutureWarning: The default dtype for empty Series will be 'object' instead of 'float64' in a future version. Specify a dtype explicitly to silence this warning.\n",
      "  recommendations = pd.Series()\n"
     ]
    },
    {
     "name": "stdout",
     "output_type": "stream",
     "text": [
      "invested recs: 0\n",
      "user 59\n"
     ]
    },
    {
     "name": "stderr",
     "output_type": "stream",
     "text": [
      "C:\\Users\\LeoDu\\AppData\\Local\\Temp\\ipykernel_3536\\1061699521.py:4: FutureWarning: The default dtype for empty Series will be 'object' instead of 'float64' in a future version. Specify a dtype explicitly to silence this warning.\n",
      "  recommendations = pd.Series()\n"
     ]
    },
    {
     "name": "stdout",
     "output_type": "stream",
     "text": [
      "invested recs: 8\n",
      "user 60\n"
     ]
    },
    {
     "name": "stderr",
     "output_type": "stream",
     "text": [
      "C:\\Users\\LeoDu\\AppData\\Local\\Temp\\ipykernel_3536\\1061699521.py:4: FutureWarning: The default dtype for empty Series will be 'object' instead of 'float64' in a future version. Specify a dtype explicitly to silence this warning.\n",
      "  recommendations = pd.Series()\n"
     ]
    },
    {
     "name": "stdout",
     "output_type": "stream",
     "text": [
      "invested recs: 9\n",
      "user 61\n"
     ]
    },
    {
     "name": "stderr",
     "output_type": "stream",
     "text": [
      "C:\\Users\\LeoDu\\AppData\\Local\\Temp\\ipykernel_3536\\1061699521.py:4: FutureWarning: The default dtype for empty Series will be 'object' instead of 'float64' in a future version. Specify a dtype explicitly to silence this warning.\n",
      "  recommendations = pd.Series()\n"
     ]
    },
    {
     "name": "stdout",
     "output_type": "stream",
     "text": [
      "invested recs: 4\n",
      "user 62\n"
     ]
    },
    {
     "name": "stderr",
     "output_type": "stream",
     "text": [
      "C:\\Users\\LeoDu\\AppData\\Local\\Temp\\ipykernel_3536\\1061699521.py:4: FutureWarning: The default dtype for empty Series will be 'object' instead of 'float64' in a future version. Specify a dtype explicitly to silence this warning.\n",
      "  recommendations = pd.Series()\n"
     ]
    },
    {
     "name": "stdout",
     "output_type": "stream",
     "text": [
      "invested recs: 9\n",
      "user 63\n"
     ]
    },
    {
     "name": "stderr",
     "output_type": "stream",
     "text": [
      "C:\\Users\\LeoDu\\AppData\\Local\\Temp\\ipykernel_3536\\1061699521.py:4: FutureWarning: The default dtype for empty Series will be 'object' instead of 'float64' in a future version. Specify a dtype explicitly to silence this warning.\n",
      "  recommendations = pd.Series()\n"
     ]
    },
    {
     "name": "stdout",
     "output_type": "stream",
     "text": [
      "invested recs: 2\n",
      "user 64\n"
     ]
    },
    {
     "name": "stderr",
     "output_type": "stream",
     "text": [
      "C:\\Users\\LeoDu\\AppData\\Local\\Temp\\ipykernel_3536\\1061699521.py:4: FutureWarning: The default dtype for empty Series will be 'object' instead of 'float64' in a future version. Specify a dtype explicitly to silence this warning.\n",
      "  recommendations = pd.Series()\n"
     ]
    },
    {
     "name": "stdout",
     "output_type": "stream",
     "text": [
      "invested recs: 4\n",
      "user 65\n"
     ]
    },
    {
     "name": "stderr",
     "output_type": "stream",
     "text": [
      "C:\\Users\\LeoDu\\AppData\\Local\\Temp\\ipykernel_3536\\1061699521.py:4: FutureWarning: The default dtype for empty Series will be 'object' instead of 'float64' in a future version. Specify a dtype explicitly to silence this warning.\n",
      "  recommendations = pd.Series()\n"
     ]
    },
    {
     "name": "stdout",
     "output_type": "stream",
     "text": [
      "invested recs: 9\n",
      "user 66\n"
     ]
    },
    {
     "name": "stderr",
     "output_type": "stream",
     "text": [
      "C:\\Users\\LeoDu\\AppData\\Local\\Temp\\ipykernel_3536\\1061699521.py:4: FutureWarning: The default dtype for empty Series will be 'object' instead of 'float64' in a future version. Specify a dtype explicitly to silence this warning.\n",
      "  recommendations = pd.Series()\n"
     ]
    },
    {
     "name": "stdout",
     "output_type": "stream",
     "text": [
      "invested recs: 4\n",
      "user 67\n"
     ]
    },
    {
     "name": "stderr",
     "output_type": "stream",
     "text": [
      "C:\\Users\\LeoDu\\AppData\\Local\\Temp\\ipykernel_3536\\1061699521.py:4: FutureWarning: The default dtype for empty Series will be 'object' instead of 'float64' in a future version. Specify a dtype explicitly to silence this warning.\n",
      "  recommendations = pd.Series()\n"
     ]
    },
    {
     "name": "stdout",
     "output_type": "stream",
     "text": [
      "invested recs: 1\n",
      "user 68\n"
     ]
    },
    {
     "name": "stderr",
     "output_type": "stream",
     "text": [
      "C:\\Users\\LeoDu\\AppData\\Local\\Temp\\ipykernel_3536\\1061699521.py:4: FutureWarning: The default dtype for empty Series will be 'object' instead of 'float64' in a future version. Specify a dtype explicitly to silence this warning.\n",
      "  recommendations = pd.Series()\n"
     ]
    },
    {
     "name": "stdout",
     "output_type": "stream",
     "text": [
      "invested recs: 15\n",
      "user 69\n"
     ]
    },
    {
     "name": "stderr",
     "output_type": "stream",
     "text": [
      "C:\\Users\\LeoDu\\AppData\\Local\\Temp\\ipykernel_3536\\1061699521.py:4: FutureWarning: The default dtype for empty Series will be 'object' instead of 'float64' in a future version. Specify a dtype explicitly to silence this warning.\n",
      "  recommendations = pd.Series()\n"
     ]
    },
    {
     "name": "stdout",
     "output_type": "stream",
     "text": [
      "invested recs: 3\n",
      "user 70\n"
     ]
    },
    {
     "name": "stderr",
     "output_type": "stream",
     "text": [
      "C:\\Users\\LeoDu\\AppData\\Local\\Temp\\ipykernel_3536\\1061699521.py:4: FutureWarning: The default dtype for empty Series will be 'object' instead of 'float64' in a future version. Specify a dtype explicitly to silence this warning.\n",
      "  recommendations = pd.Series()\n"
     ]
    },
    {
     "name": "stdout",
     "output_type": "stream",
     "text": [
      "invested recs: 4\n",
      "user 71\n"
     ]
    },
    {
     "name": "stderr",
     "output_type": "stream",
     "text": [
      "C:\\Users\\LeoDu\\AppData\\Local\\Temp\\ipykernel_3536\\1061699521.py:4: FutureWarning: The default dtype for empty Series will be 'object' instead of 'float64' in a future version. Specify a dtype explicitly to silence this warning.\n",
      "  recommendations = pd.Series()\n"
     ]
    },
    {
     "name": "stdout",
     "output_type": "stream",
     "text": [
      "invested recs: 4\n",
      "user 72\n"
     ]
    },
    {
     "name": "stderr",
     "output_type": "stream",
     "text": [
      "C:\\Users\\LeoDu\\AppData\\Local\\Temp\\ipykernel_3536\\1061699521.py:4: FutureWarning: The default dtype for empty Series will be 'object' instead of 'float64' in a future version. Specify a dtype explicitly to silence this warning.\n",
      "  recommendations = pd.Series()\n"
     ]
    },
    {
     "name": "stdout",
     "output_type": "stream",
     "text": [
      "invested recs: 8\n",
      "user 73\n"
     ]
    },
    {
     "name": "stderr",
     "output_type": "stream",
     "text": [
      "C:\\Users\\LeoDu\\AppData\\Local\\Temp\\ipykernel_3536\\1061699521.py:4: FutureWarning: The default dtype for empty Series will be 'object' instead of 'float64' in a future version. Specify a dtype explicitly to silence this warning.\n",
      "  recommendations = pd.Series()\n"
     ]
    },
    {
     "name": "stdout",
     "output_type": "stream",
     "text": [
      "invested recs: 5\n",
      "user 74\n"
     ]
    },
    {
     "name": "stderr",
     "output_type": "stream",
     "text": [
      "C:\\Users\\LeoDu\\AppData\\Local\\Temp\\ipykernel_3536\\1061699521.py:4: FutureWarning: The default dtype for empty Series will be 'object' instead of 'float64' in a future version. Specify a dtype explicitly to silence this warning.\n",
      "  recommendations = pd.Series()\n"
     ]
    },
    {
     "name": "stdout",
     "output_type": "stream",
     "text": [
      "invested recs: 7\n",
      "user 75\n"
     ]
    },
    {
     "name": "stderr",
     "output_type": "stream",
     "text": [
      "C:\\Users\\LeoDu\\AppData\\Local\\Temp\\ipykernel_3536\\1061699521.py:4: FutureWarning: The default dtype for empty Series will be 'object' instead of 'float64' in a future version. Specify a dtype explicitly to silence this warning.\n",
      "  recommendations = pd.Series()\n"
     ]
    },
    {
     "name": "stdout",
     "output_type": "stream",
     "text": [
      "invested recs: 3\n",
      "user 76\n"
     ]
    },
    {
     "name": "stderr",
     "output_type": "stream",
     "text": [
      "C:\\Users\\LeoDu\\AppData\\Local\\Temp\\ipykernel_3536\\1061699521.py:4: FutureWarning: The default dtype for empty Series will be 'object' instead of 'float64' in a future version. Specify a dtype explicitly to silence this warning.\n",
      "  recommendations = pd.Series()\n"
     ]
    },
    {
     "name": "stdout",
     "output_type": "stream",
     "text": [
      "invested recs: 4\n",
      "user 77\n"
     ]
    },
    {
     "name": "stderr",
     "output_type": "stream",
     "text": [
      "C:\\Users\\LeoDu\\AppData\\Local\\Temp\\ipykernel_3536\\1061699521.py:4: FutureWarning: The default dtype for empty Series will be 'object' instead of 'float64' in a future version. Specify a dtype explicitly to silence this warning.\n",
      "  recommendations = pd.Series()\n"
     ]
    },
    {
     "name": "stdout",
     "output_type": "stream",
     "text": [
      "invested recs: 9\n",
      "user 78\n"
     ]
    },
    {
     "name": "stderr",
     "output_type": "stream",
     "text": [
      "C:\\Users\\LeoDu\\AppData\\Local\\Temp\\ipykernel_3536\\1061699521.py:4: FutureWarning: The default dtype for empty Series will be 'object' instead of 'float64' in a future version. Specify a dtype explicitly to silence this warning.\n",
      "  recommendations = pd.Series()\n"
     ]
    },
    {
     "name": "stdout",
     "output_type": "stream",
     "text": [
      "invested recs: 4\n",
      "user 79\n"
     ]
    },
    {
     "name": "stderr",
     "output_type": "stream",
     "text": [
      "C:\\Users\\LeoDu\\AppData\\Local\\Temp\\ipykernel_3536\\1061699521.py:4: FutureWarning: The default dtype for empty Series will be 'object' instead of 'float64' in a future version. Specify a dtype explicitly to silence this warning.\n",
      "  recommendations = pd.Series()\n"
     ]
    },
    {
     "name": "stdout",
     "output_type": "stream",
     "text": [
      "invested recs: 7\n",
      "user 80\n"
     ]
    },
    {
     "name": "stderr",
     "output_type": "stream",
     "text": [
      "C:\\Users\\LeoDu\\AppData\\Local\\Temp\\ipykernel_3536\\1061699521.py:4: FutureWarning: The default dtype for empty Series will be 'object' instead of 'float64' in a future version. Specify a dtype explicitly to silence this warning.\n",
      "  recommendations = pd.Series()\n"
     ]
    },
    {
     "name": "stdout",
     "output_type": "stream",
     "text": [
      "invested recs: 10\n",
      "user 81\n"
     ]
    },
    {
     "name": "stderr",
     "output_type": "stream",
     "text": [
      "C:\\Users\\LeoDu\\AppData\\Local\\Temp\\ipykernel_3536\\1061699521.py:4: FutureWarning: The default dtype for empty Series will be 'object' instead of 'float64' in a future version. Specify a dtype explicitly to silence this warning.\n",
      "  recommendations = pd.Series()\n"
     ]
    },
    {
     "name": "stdout",
     "output_type": "stream",
     "text": [
      "invested recs: 3\n",
      "user 82\n"
     ]
    },
    {
     "name": "stderr",
     "output_type": "stream",
     "text": [
      "C:\\Users\\LeoDu\\AppData\\Local\\Temp\\ipykernel_3536\\1061699521.py:4: FutureWarning: The default dtype for empty Series will be 'object' instead of 'float64' in a future version. Specify a dtype explicitly to silence this warning.\n",
      "  recommendations = pd.Series()\n"
     ]
    },
    {
     "name": "stdout",
     "output_type": "stream",
     "text": [
      "invested recs: 5\n",
      "user 83\n"
     ]
    },
    {
     "name": "stderr",
     "output_type": "stream",
     "text": [
      "C:\\Users\\LeoDu\\AppData\\Local\\Temp\\ipykernel_3536\\1061699521.py:4: FutureWarning: The default dtype for empty Series will be 'object' instead of 'float64' in a future version. Specify a dtype explicitly to silence this warning.\n",
      "  recommendations = pd.Series()\n"
     ]
    },
    {
     "name": "stdout",
     "output_type": "stream",
     "text": [
      "invested recs: 4\n",
      "user 84\n"
     ]
    },
    {
     "name": "stderr",
     "output_type": "stream",
     "text": [
      "C:\\Users\\LeoDu\\AppData\\Local\\Temp\\ipykernel_3536\\1061699521.py:4: FutureWarning: The default dtype for empty Series will be 'object' instead of 'float64' in a future version. Specify a dtype explicitly to silence this warning.\n",
      "  recommendations = pd.Series()\n"
     ]
    },
    {
     "name": "stdout",
     "output_type": "stream",
     "text": [
      "invested recs: 4\n",
      "user 85\n"
     ]
    },
    {
     "name": "stderr",
     "output_type": "stream",
     "text": [
      "C:\\Users\\LeoDu\\AppData\\Local\\Temp\\ipykernel_3536\\1061699521.py:4: FutureWarning: The default dtype for empty Series will be 'object' instead of 'float64' in a future version. Specify a dtype explicitly to silence this warning.\n",
      "  recommendations = pd.Series()\n"
     ]
    },
    {
     "name": "stdout",
     "output_type": "stream",
     "text": [
      "invested recs: 4\n",
      "user 86\n"
     ]
    },
    {
     "name": "stderr",
     "output_type": "stream",
     "text": [
      "C:\\Users\\LeoDu\\AppData\\Local\\Temp\\ipykernel_3536\\1061699521.py:4: FutureWarning: The default dtype for empty Series will be 'object' instead of 'float64' in a future version. Specify a dtype explicitly to silence this warning.\n",
      "  recommendations = pd.Series()\n"
     ]
    },
    {
     "name": "stdout",
     "output_type": "stream",
     "text": [
      "invested recs: 11\n",
      "user 87\n"
     ]
    },
    {
     "name": "stderr",
     "output_type": "stream",
     "text": [
      "C:\\Users\\LeoDu\\AppData\\Local\\Temp\\ipykernel_3536\\1061699521.py:4: FutureWarning: The default dtype for empty Series will be 'object' instead of 'float64' in a future version. Specify a dtype explicitly to silence this warning.\n",
      "  recommendations = pd.Series()\n"
     ]
    },
    {
     "name": "stdout",
     "output_type": "stream",
     "text": [
      "invested recs: 17\n",
      "user 88\n"
     ]
    },
    {
     "name": "stderr",
     "output_type": "stream",
     "text": [
      "C:\\Users\\LeoDu\\AppData\\Local\\Temp\\ipykernel_3536\\1061699521.py:4: FutureWarning: The default dtype for empty Series will be 'object' instead of 'float64' in a future version. Specify a dtype explicitly to silence this warning.\n",
      "  recommendations = pd.Series()\n"
     ]
    },
    {
     "name": "stdout",
     "output_type": "stream",
     "text": [
      "invested recs: 5\n",
      "user 89\n"
     ]
    },
    {
     "name": "stderr",
     "output_type": "stream",
     "text": [
      "C:\\Users\\LeoDu\\AppData\\Local\\Temp\\ipykernel_3536\\1061699521.py:4: FutureWarning: The default dtype for empty Series will be 'object' instead of 'float64' in a future version. Specify a dtype explicitly to silence this warning.\n",
      "  recommendations = pd.Series()\n"
     ]
    },
    {
     "name": "stdout",
     "output_type": "stream",
     "text": [
      "invested recs: 6\n",
      "user 90\n"
     ]
    },
    {
     "name": "stderr",
     "output_type": "stream",
     "text": [
      "C:\\Users\\LeoDu\\AppData\\Local\\Temp\\ipykernel_3536\\1061699521.py:4: FutureWarning: The default dtype for empty Series will be 'object' instead of 'float64' in a future version. Specify a dtype explicitly to silence this warning.\n",
      "  recommendations = pd.Series()\n"
     ]
    },
    {
     "name": "stdout",
     "output_type": "stream",
     "text": [
      "invested recs: 0\n",
      "user 91\n"
     ]
    },
    {
     "name": "stderr",
     "output_type": "stream",
     "text": [
      "C:\\Users\\LeoDu\\AppData\\Local\\Temp\\ipykernel_3536\\1061699521.py:4: FutureWarning: The default dtype for empty Series will be 'object' instead of 'float64' in a future version. Specify a dtype explicitly to silence this warning.\n",
      "  recommendations = pd.Series()\n"
     ]
    },
    {
     "name": "stdout",
     "output_type": "stream",
     "text": [
      "invested recs: 1\n",
      "user 92\n"
     ]
    },
    {
     "name": "stderr",
     "output_type": "stream",
     "text": [
      "C:\\Users\\LeoDu\\AppData\\Local\\Temp\\ipykernel_3536\\1061699521.py:4: FutureWarning: The default dtype for empty Series will be 'object' instead of 'float64' in a future version. Specify a dtype explicitly to silence this warning.\n",
      "  recommendations = pd.Series()\n"
     ]
    },
    {
     "name": "stdout",
     "output_type": "stream",
     "text": [
      "invested recs: 8\n",
      "user 93\n"
     ]
    },
    {
     "name": "stderr",
     "output_type": "stream",
     "text": [
      "C:\\Users\\LeoDu\\AppData\\Local\\Temp\\ipykernel_3536\\1061699521.py:4: FutureWarning: The default dtype for empty Series will be 'object' instead of 'float64' in a future version. Specify a dtype explicitly to silence this warning.\n",
      "  recommendations = pd.Series()\n"
     ]
    },
    {
     "name": "stdout",
     "output_type": "stream",
     "text": [
      "invested recs: 2\n",
      "user 94\n"
     ]
    },
    {
     "name": "stderr",
     "output_type": "stream",
     "text": [
      "C:\\Users\\LeoDu\\AppData\\Local\\Temp\\ipykernel_3536\\1061699521.py:4: FutureWarning: The default dtype for empty Series will be 'object' instead of 'float64' in a future version. Specify a dtype explicitly to silence this warning.\n",
      "  recommendations = pd.Series()\n"
     ]
    },
    {
     "name": "stdout",
     "output_type": "stream",
     "text": [
      "invested recs: 7\n",
      "user 95\n"
     ]
    },
    {
     "name": "stderr",
     "output_type": "stream",
     "text": [
      "C:\\Users\\LeoDu\\AppData\\Local\\Temp\\ipykernel_3536\\1061699521.py:4: FutureWarning: The default dtype for empty Series will be 'object' instead of 'float64' in a future version. Specify a dtype explicitly to silence this warning.\n",
      "  recommendations = pd.Series()\n"
     ]
    },
    {
     "name": "stdout",
     "output_type": "stream",
     "text": [
      "invested recs: 5\n",
      "user 96\n"
     ]
    },
    {
     "name": "stderr",
     "output_type": "stream",
     "text": [
      "C:\\Users\\LeoDu\\AppData\\Local\\Temp\\ipykernel_3536\\1061699521.py:4: FutureWarning: The default dtype for empty Series will be 'object' instead of 'float64' in a future version. Specify a dtype explicitly to silence this warning.\n",
      "  recommendations = pd.Series()\n"
     ]
    },
    {
     "name": "stdout",
     "output_type": "stream",
     "text": [
      "invested recs: 6\n",
      "user 97\n"
     ]
    },
    {
     "name": "stderr",
     "output_type": "stream",
     "text": [
      "C:\\Users\\LeoDu\\AppData\\Local\\Temp\\ipykernel_3536\\1061699521.py:4: FutureWarning: The default dtype for empty Series will be 'object' instead of 'float64' in a future version. Specify a dtype explicitly to silence this warning.\n",
      "  recommendations = pd.Series()\n"
     ]
    },
    {
     "name": "stdout",
     "output_type": "stream",
     "text": [
      "invested recs: 4\n",
      "user 98\n"
     ]
    },
    {
     "name": "stderr",
     "output_type": "stream",
     "text": [
      "C:\\Users\\LeoDu\\AppData\\Local\\Temp\\ipykernel_3536\\1061699521.py:4: FutureWarning: The default dtype for empty Series will be 'object' instead of 'float64' in a future version. Specify a dtype explicitly to silence this warning.\n",
      "  recommendations = pd.Series()\n"
     ]
    },
    {
     "name": "stdout",
     "output_type": "stream",
     "text": [
      "invested recs: 10\n",
      "user 99\n"
     ]
    },
    {
     "name": "stderr",
     "output_type": "stream",
     "text": [
      "C:\\Users\\LeoDu\\AppData\\Local\\Temp\\ipykernel_3536\\1061699521.py:4: FutureWarning: The default dtype for empty Series will be 'object' instead of 'float64' in a future version. Specify a dtype explicitly to silence this warning.\n",
      "  recommendations = pd.Series()\n"
     ]
    },
    {
     "name": "stdout",
     "output_type": "stream",
     "text": [
      "invested recs: 10\n",
      "user 100\n"
     ]
    },
    {
     "name": "stderr",
     "output_type": "stream",
     "text": [
      "C:\\Users\\LeoDu\\AppData\\Local\\Temp\\ipykernel_3536\\1061699521.py:4: FutureWarning: The default dtype for empty Series will be 'object' instead of 'float64' in a future version. Specify a dtype explicitly to silence this warning.\n",
      "  recommendations = pd.Series()\n"
     ]
    },
    {
     "name": "stdout",
     "output_type": "stream",
     "text": [
      "invested recs: 4\n",
      "validated recs: 487\n",
      "validated vs max validatable: 0.2200632625395391\n",
      "ratio: 0.2435\n",
      "\n"
     ]
    }
   ],
   "source": [
    "#0x17dfc796d1a125d87fb43ab1d61f888966eef7b0\n",
    "#0x43851e9f0f192851ce0a3a43e4bb57992884d2c7\n",
    "#0x43861efd37d3b19bc25f7114bbef462174e3214a\n",
    "#user = '0x43861efd37d3b19bc25f7114bbef462174e3214a'\n",
    "\n",
    "user_test= 100\n",
    "validated_recs = 0\n",
    "max_valid_recs = 0\n",
    "total_recs = user_test * 20\n",
    "i = 1\n",
    "for user in df_ratings.BUYER_ADDRESS.drop_duplicates().head(user_test).tolist():\n",
    "    print('user', i)\n",
    "    recs = get_recommendations(user)\n",
    "    df_recs = pd.DataFrame(recs).reset_index().rename(columns={'index': 'product_id'})\n",
    "    df_recs = df_recs.merge(nft_address_to_product_id, how='inner', on = 'product_id')\n",
    "    \n",
    "    df_recs['already_invested'] = df_recs['NFT_ADDRESS'].apply(lambda x : True if x in df_ratings[df_ratings.BUYER_ADDRESS == user].NFT_ADDRESS.unique() else False)\n",
    "    print('invested recs:', df_recs['already_invested'].sum())\n",
    "    \n",
    "    validated_recs += df_recs['already_invested'].sum()\n",
    "    max_valid_recs += len(df_ratings[df_ratings.BUYER_ADDRESS == user].NFT_ADDRESS.unique())\n",
    "    i+=1\n",
    "\n",
    "print(\"validated recs:\", validated_recs)\n",
    "print('validated vs max validatable:', validated_recs/max_valid_recs)\n",
    "print('ratio:', validated_recs/total_recs)\n",
    "print()\n",
    "##filter out collections that the user already invested in\n",
    "\n"
   ]
  },
  {
   "cell_type": "code",
   "execution_count": 30,
   "id": "fb9b4e4d",
   "metadata": {},
   "outputs": [
    {
     "data": {
      "text/plain": [
       "['0x207b3c1083a62e282d375a11f52730879cbfbbbb',\n",
       " '0x0c4037b72a0c63340fb530690ea123c612665a34',\n",
       " '0x0ad100536bd9e8ee6e1aadfde74ec33f80d9bfa0',\n",
       " '0x4df00689952974edbe1cc05d2710ea1b2b6e185f',\n",
       " '0x39500416f6e1544b533d71c5c3f619de158b46e9',\n",
       " '0x49236ce2eb4b67618513b37f09c101183e7367f6',\n",
       " '0x14977b0dbe7e155f9907effecbb70c9b7a05e737',\n",
       " '0x29b58978f21bf57f217495ba78830d93d5c0ea23',\n",
       " '0x13422774d8416a316390f5aa2e713c5742592aaf',\n",
       " '0x3258ea5ea3cd8639380f3e136873dcb8078160a0',\n",
       " '0x3501cfb3581e998422f398b6d41a86271777a89a',\n",
       " '0x37bb6fdb5e4be5e22f19813a28df91bfaf4638ab',\n",
       " '0x30a1963ec5a2cfe7e36dae4aaea39ef6fd499745',\n",
       " '0x1e299dc52eb9fdab6a6849f9731a948d8d72e474',\n",
       " '0x39bcc1e709d191fcf7d837d5a30724921012ff38',\n",
       " '0x11e01777ebc4ad185ea3de4a9efcb50bcd92248d',\n",
       " '0x00903f96abe2743b81fc7fcf4874c715a3fe1c88',\n",
       " '0x0008d343091ef8bd3efa730f6aae5a26a285c7a2',\n",
       " '0x0da0df4be467140e74c76257d002f52e954be4d3',\n",
       " '0x3819d14e0b3147829e072336c8bedb02b73ee0ab',\n",
       " '0x3d6f73441f28e54c28103ea972057f2c734a0f5c',\n",
       " '0x0f87316eae80058c4e489f752c057ec1b4d00a0e',\n",
       " '0x0cbe1fba05102c34365a742af159efc5a93d1a68',\n",
       " '0x4c15572de5dd5f4311998d7035adce1c4ba7c1c2',\n",
       " '0x0a8df108c88b59c88221657e4984c2943d44a550',\n",
       " '0x3f2558464ace36f2df4ff6bf0b7087f636e545e6',\n",
       " '0x201b5abfd44a8f9b75f0fe1bae74cdac7675e54b',\n",
       " '0x0028109b8b6ca54e7e1c372cfc2a68b7e477cd43',\n",
       " '0x50d36f27872f637ec9ecb4eedff300df44a608ab',\n",
       " '0x1dbd0eb3dc3b99842fdd0f4bd3746c7d4d871727',\n",
       " '0x15e37293bcd44422b60c227568cd58403dec3e5e',\n",
       " '0x06f243d866f17bbb66a8ec1d991c09f6945d8862',\n",
       " '0x494cdc9133da476534ee56058032c9f7899d968b',\n",
       " '0x302f90a581a65a8930100e1fff118e0026093a2b',\n",
       " '0x3088245c03a47fa124af9990b87c9f6df9c27e67',\n",
       " '0x1618406d203aefa14526f77d79fdbeac9d42137b',\n",
       " '0x2c07681e81b5f98c615cd2dd807a1b141982914d',\n",
       " '0x4fc259b2dd9f5fc740292434817ed3f95dc44f50',\n",
       " '0x00b6f8f1ee0241075799aa7474c70304d8fa0814',\n",
       " '0x0c544f463600eb7d94b3694f3f3eb171c2f1a93c',\n",
       " '0x01f0fdb03cc318cf8d40ff70967439beac4d4e8e',\n",
       " '0x47af52916767f0550aee8035b5b14a1ece2b34f4',\n",
       " '0x1d2c4cd9bee9dfe088430b95d274e765151c32db',\n",
       " '0x2b163cccb96bd7f42b29266cdb383a25311631df',\n",
       " '0x503279fd5ee47cd78e65b6773af21bc7722aa68d',\n",
       " '0x1f50172ac57c288100a709e379dbb6ab04bd8627',\n",
       " '0x0e182fa704dfb8edb25ba2d07b89cfc4ee1dbdc4',\n",
       " '0x013ca029ba7db937008758f59e9cf32d0ebbd720',\n",
       " '0x0e0b21de444fa3d2eda8049095a8f013d54ed7ea',\n",
       " '0x4f88c947e1c254cf0f56da819e024779fa202787',\n",
       " '0x41b52a1a3babba16a1ef6f302a3b611da6127a3a',\n",
       " '0x0323196bd6f5ed0ccc8b0f90edc8b11435fb7c61',\n",
       " '0x2d2f63570384c10acff9e2bf8ee251383595c2e8',\n",
       " '0x41797b5e0398af475422f6f33f2dc81d9a24ae33',\n",
       " '0x10502e56389a5cd0777aa284103bcedd887b0ba2',\n",
       " '0x226903cc2d60d776d46b3772af2bddc612086322',\n",
       " '0x5115c67f5621440fd8413cdad36fdf89b8ac4c01',\n",
       " '0x2e8200a85bf9eff64e33bf4f8d331d30f0b0b30e',\n",
       " '0x0819aec68a20224f793cd75bb2af86f3a5ac95bc',\n",
       " '0x1f055d883120bb393a8b0a913fbeb91667957201',\n",
       " '0x059b738209b28f91d42e0f44746a47e8d2dbd266',\n",
       " '0x4b1e684d5143eb7435e5d78385fa8cbdccd8f7ec',\n",
       " '0x52959588ad024def2b439bfba784496c315bb09e',\n",
       " '0x4cf67b152b12e4047b2b5b7d39772e47c05d7153',\n",
       " '0x3c6137504c38215fea30605b3e364a23c1d3e14f',\n",
       " '0x1e506e6af1dcf5633e105ad36fcfe0ac83dce013',\n",
       " '0x2b4ebc796044f19ecf34526659bbed6c35e3ec11',\n",
       " '0x208b82b04449cd51803fae4b1561450ba13d9510',\n",
       " '0x05a107ae64cf029086ee996d2599f09cc4f2274e',\n",
       " '0x34558f1219a6c45971c23cae650b2ec3f6a49558',\n",
       " '0x34dfd60a1fe24cf57479c85971c7e031241762a9',\n",
       " '0x34805e6a3796fb04e82183667a78c2f7bff29170',\n",
       " '0x4034add1a1a750aa19142218a177d509b7a5448f',\n",
       " '0x23787626349cc170bfc512e5b5e3d3f44e00d02d',\n",
       " '0x07f540903f9ec92ae3bc85a91742fa272da32618',\n",
       " '0x2d68c0623515fae698417a8698b3470d9738c4b0',\n",
       " '0x02c68e3de38b00f958a53bd9182d09120312b2a2',\n",
       " '0x51f1d95cc6651537b7c497f4d146e4e9aa92565b',\n",
       " '0x4595ff64328faf80a8cf0d52355639984b6af23c',\n",
       " '0x11c48a7e735f71a16a52eb8a8caa48bbec281216',\n",
       " '0x0cb7a06ec845edca1af6db6b6538c4ca0942019a',\n",
       " '0x02951d69f0a8eded113100883e70ad133add3f56',\n",
       " '0x31a2d6f17a89c2c80add11e5ecded97e25d3697a',\n",
       " '0x21ace337844636e56195d58b60b76803435c9eb9',\n",
       " '0x217510bc96069eafaebc6d297bc5087b546a9c3f',\n",
       " '0x0950541696888bcfac9af6a5c479871d3e583cac',\n",
       " '0x385ce35599ae5e6f0eaf0f69841fffa9f41acdd5',\n",
       " '0x1301a5a67ac6f7b48226cd66883676f7d1aab280',\n",
       " '0x32d22632e346058773778c2ed9ba9207d2c819d2',\n",
       " '0x3a7e59ea8a022a95700f403c343aaa336b221cb6',\n",
       " '0x0c9e725902f2eeec063c16d253f38684e3192001',\n",
       " '0x48e6b9b91278a01c6b9a71458ef9ff397e4c70fc',\n",
       " '0x232d8cf367007975e16c84100167b6d90d5198a5',\n",
       " '0x41b68202dc64904e09d2e4f0a94879c741f27db2',\n",
       " '0x219d6c1999664bc52bf5971d6e040b8e62a8ac14',\n",
       " '0x261ebf1d3615c65cb80392970c837376913f1178',\n",
       " '0x47320b27870c9f7549180aa77b0f3bed292a8b1f',\n",
       " '0x48b3050bcabe7bc75c2895eabefdaad672f9d2ed',\n",
       " '0x1096b85a3421794c801bdaa757efe5ef6e0ca135',\n",
       " '0x1c29fed7470938f31d21eaccb89ecea1d779684f']"
      ]
     },
     "execution_count": 30,
     "metadata": {},
     "output_type": "execute_result"
    }
   ],
   "source": [
    "df_ratings.BUYER_ADDRESS.drop_duplicates().head(100).tolist()"
   ]
  },
  {
   "cell_type": "code",
   "execution_count": 22,
   "id": "2b00da56",
   "metadata": {},
   "outputs": [],
   "source": [
    "def recommenderNFT(user):\n",
    "    top_collection = get_top_collection(user)\n",
    "    top_collection_id = nft_address_to_product_id.loc[nft_address_to_product_id.NFT_ADDRESS == top_collection, 'product_id']\n",
    "    other_collections = pd.Series(\n",
    "        item_similarity.iloc[top_collection_id].values[0]\n",
    "    ).rename('rating').sort_values(ascending = False).head(10).reset_index().merge(\n",
    "        nft_address_to_product_id,\n",
    "        how = 'inner',\n",
    "        left_on = 'index',\n",
    "        right_on = 'product_id'\n",
    "    ).merge(\n",
    "        df_names,\n",
    "        how = 'inner',\n",
    "        on = 'NFT_ADDRESS'\n",
    "    )[1:]['PROJECT_NAME'].to_list()\n",
    "    \n",
    "    print('user:',user)\n",
    "    print('Because you invested in', df_names.at[df_names.loc[df_names.NFT_ADDRESS==top_collection].index[0], 'PROJECT_NAME'])\n",
    "    print('You might like', other_collections)"
   ]
  },
  {
   "cell_type": "code",
   "execution_count": 38,
   "id": "6e9bfc64",
   "metadata": {},
   "outputs": [
    {
     "name": "stdout",
     "output_type": "stream",
     "text": [
      "user: 0x1096b85a3421794c801bdaa757efe5ef6e0ca135\n",
      "Because you invested in degen toonz\n",
      "You might like ['toonz minter rewards card', 'degen toonz', 'detonated toonz', 'lilhottie', 'the uncanny country club', 'angel baby hit squad', 'jarritos', 'wulf boy social club', 'killabears']\n"
     ]
    }
   ],
   "source": [
    "user = '0x1096b85a3421794c801bdaa757efe5ef6e0ca135'\n",
    "recommenderNFT(user)"
   ]
  }
 ],
 "metadata": {
  "kernelspec": {
   "display_name": "Python 3 (ipykernel)",
   "language": "python",
   "name": "python3"
  },
  "language_info": {
   "codemirror_mode": {
    "name": "ipython",
    "version": 3
   },
   "file_extension": ".py",
   "mimetype": "text/x-python",
   "name": "python",
   "nbconvert_exporter": "python",
   "pygments_lexer": "ipython3",
   "version": "3.10.11"
  }
 },
 "nbformat": 4,
 "nbformat_minor": 5
}
